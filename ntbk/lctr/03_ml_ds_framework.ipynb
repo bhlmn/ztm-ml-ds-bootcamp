{
 "cells": [
  {
   "cell_type": "markdown",
   "metadata": {},
   "source": [
    "# Machine Learning and Data Science Framework\n",
    "\n",
    "The six-step framework:\n",
    "\n",
    "1. Problem definition ... what are we trying to solve?\n",
    "2. Data ... what data do we have?\n",
    "3. Evaluation ... what defines success for us?\n",
    "4. Features ... what features should we model? What do we already know about the data?\n",
    "5. Modeling ... what kind of model should we use?\n",
    "6. Experiments ... what have we tried and what else can we try?\n",
    "\n",
    "## 1. Problem definition\n",
    "\n",
    "Remember ... machine learning isn't the best path for every data problem. Simple, rule-based systems can often be the best approach!\n",
    "\n",
    "Think ... is this problem a good fit for supervised learning, unsupervised learning, transfer learning, or reinforcement learning?\n",
    "\n",
    "Supervised learning: when you know your inputs (features) and outputs (labels)\n",
    "* Classification (binary or multiclass)\n",
    "* Regression\n",
    "\n",
    "Unsupervised learning: when you only know your inputs\n",
    "* Clustering\n",
    "* Recommendation engines\n",
    "\n",
    "Transfer learning: leverage a pre-trained model for our use case (when you think your problem might be similar to something else)\n",
    "\n",
    "## 2. Data\n",
    "\n",
    "What kind of data do we have?\n",
    "* Structured?\n",
    "* Unstructured? (text, audio, images)\n",
    "\n",
    "How does it come in?\n",
    "* Static/batch (most problems start here)\n",
    "* Streaming?\n",
    "\n",
    "## 3. Evaluation\n",
    "\n",
    "What kind of accuracy do we need for this project to be useful? What is state-of-the-art or human-level accuracy?\n",
    "\n",
    "What type of metric will we use to evaluate accuracy?\n",
    "\n",
    "What do we want to avoid more? False positives or false negatives?\n",
    "\n",
    "## 4. Features\n",
    "\n",
    "Typical types of features:\n",
    "* Numerical\n",
    "* Categorical\n",
    "\n",
    "Can we engineer new features from our existing ones?\n",
    "\n",
    "If a feature has a lot of missing data, it might not be useful to us.\n",
    "\n",
    "## 5. Modeling \n",
    "\n",
    "Based on our problem and data, what model should we use?\n",
    "\n",
    "An important note ... during our experiments we'll split our data into three sets:\n",
    "* training data (train the model on this)\n",
    "* validation data (tune the model on this)\n",
    "* test data (test and compare on this)\n"
   ]
  }
 ],
 "metadata": {
  "interpreter": {
   "hash": "397704579725e15f5c7cb49fe5f0341eb7531c82d19f2c29d197e8b64ab5776b"
  },
  "kernelspec": {
   "display_name": "Python 3.9.7 64-bit",
   "name": "python3"
  },
  "language_info": {
   "name": "python",
   "version": "3.9.7"
  },
  "orig_nbformat": 4
 },
 "nbformat": 4,
 "nbformat_minor": 2
}
