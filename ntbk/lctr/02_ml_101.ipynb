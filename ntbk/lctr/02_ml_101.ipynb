{
 "cells": [
  {
   "cell_type": "markdown",
   "metadata": {},
   "source": [
    "# Machine learning 101\n",
    "\n",
    "Here are some interesting machine learning playground websites to introduce the basic concepts:\n",
    "\n",
    "* [Machine Learning Playground](https://ml-playground.com/)\n",
    "* [TensorFlow Playground](https://playground.tensorflow.org/)"
   ]
  }
 ],
 "metadata": {
  "interpreter": {
   "hash": "397704579725e15f5c7cb49fe5f0341eb7531c82d19f2c29d197e8b64ab5776b"
  },
  "kernelspec": {
   "display_name": "Python 3.9.7 64-bit",
   "name": "python3"
  },
  "language_info": {
   "name": "python",
   "version": "3.9.7"
  },
  "orig_nbformat": 4
 },
 "nbformat": 4,
 "nbformat_minor": 2
}
